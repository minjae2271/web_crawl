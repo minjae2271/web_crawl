{
 "cells": [
  {
   "cell_type": "code",
   "execution_count": null,
   "metadata": {},
   "outputs": [],
   "source": [
    "#네이버 카페 로그인부터 크롤링"
   ]
  },
  {
   "cell_type": "code",
   "execution_count": null,
   "metadata": {},
   "outputs": [],
   "source": [
    "from selenium import webdriver\n",
    "import time\n",
    "from bs4 import BeautifulSoup as bs\n",
    "from selenium.webdriver.common.keys import Keys\n",
    "\n",
    "#.Chrome() -> 에러발생하여 절대경로 추가 (driver파일을 usr/bin으로 옮겨도 해결된다고 함)\n",
    "driver = webdriver.Chrome('/Users/minjae/web_crawl/chromedriver')\n",
    "\n",
    "driver.get('https://www.naver.com/')\n",
    "\n",
    "driver.find_element_by_xpath('//*[@id=\"account\"]/a').click()\n",
    "\n",
    "driver.find_element_by_id('id').send_keys('minjae2271')\n",
    "driver.find_element_by_id('pw').send_keys('M71186235')\n",
    "\n",
    "driver.find_element_by_xpath('//*[@id=\"log.login\"]').click()\n",
    "\n",
    "time.sleep(20)\n",
    "\n",
    "base_url = 'https://cafe.naver.com/noljatravel'\n",
    "\n",
    "driver.get(base_url)\n",
    "\n",
    "driver.find_element_by_id('group472btn').click()\n",
    "driver.find_element_by_id('menuLink364').click()\n",
    "\n",
    "\n",
    "for i in range(3):\n",
    "    driver.switch_to.frame('cafe_main')\n",
    "    articles = driver.find_elements_by_class_name('album-img')\n",
    "    \n",
    "    target = articles[i]\n",
    "    \n",
    "    # 새로운 탭으로 이동\n",
    "    target.send_keys(Keys.COMMAND +\"\\n\")   # Windows = CONTROL\n",
    "    time.sleep(2)\n",
    "    driver.switch_to_window(driver.window_handles[1])\n",
    "    time.sleep(2)\n",
    "\n",
    "    driver.switch_to.frame('cafe_main')\n",
    "    \n",
    "    comment = driver.find_element_by_class_name('comment_list')\n",
    "    print(comment.text)\n",
    "    \n",
    "    # 현재 사용중인 탭 종료\n",
    "    driver.close()\n",
    "\n",
    "    # 메인 탭으로 이동\n",
    "    driver.switch_to_window(driver.window_handles[0])\n",
    "    print(f\"============================{i+1}완료=====================================\")\n",
    "    \n",
    "driver.close()"
   ]
  },
  {
   "cell_type": "code",
   "execution_count": null,
   "metadata": {},
   "outputs": [],
   "source": []
  },
  {
   "cell_type": "code",
   "execution_count": null,
   "metadata": {},
   "outputs": [],
   "source": [
    "#인스타크롤링"
   ]
  },
  {
   "cell_type": "code",
   "execution_count": null,
   "metadata": {},
   "outputs": [],
   "source": [
    "from urllib.request import urlopen\n",
    "from urllib.parse import quote_plus\n",
    "from bs4 import BeautifulSoup\n",
    "from selenium import webdriver\n",
    "from selenium.webdriver.common.keys import Keys\n",
    "import time\n",
    "\n",
    "from selenium.webdriver.common.by import By \n",
    "from selenium.webdriver.support.ui import WebDriverWait \n",
    "from selenium.webdriver.support import expected_conditions as EC\n",
    "import re"
   ]
  },
  {
   "cell_type": "code",
   "execution_count": null,
   "metadata": {},
   "outputs": [],
   "source": [
    "#https://www.instagram.com/explore/tags/%EC%9D%84%EC%A7%80%EB%A1%9C%EB%A7%9B%EC%A7%91/\n",
    "baseUrl = 'https://www.instagram.com/explore/tags/'\n",
    "plusUrl = input('인스타 검색어를 입력하세요 : ')\n",
    "url = baseUrl + quote_plus(plusUrl)\n",
    "\n",
    "#인스타그램의 웹구조 -> JS기 때문에 selenium 사용\n",
    "#.Chrome() -> 에러발생하여 절대경로 추가 (driver파일을 usr/bin으로 옮겨도 해결된다고 함)\n",
    "driver = webdriver.Chrome('/Users/minjae/web_crawl/chromedriver')\n",
    "driver.get(url)\n",
    "time.sleep(3)\n",
    "\n",
    "driver.find_element_by_xpath('//*[@id=\"react-root\"]/section/nav/div[2]/div/div/div[3]/div/span/a[1]/button').click()\n",
    "time.sleep(20)\n",
    "\n",
    "driver.find_element_by_xpath('//*[@id=\"react-root\"]/section/main/article/div[1]/div/div/div[1]/div[1]').click()\n",
    "time.sleep(1)\n",
    "\n",
    "for i in range(5):\n",
    "    try:\n",
    "        data = driver.find_element_by_css_selector('body > div._2dDPU.CkGkG > div.zZYga > div > article > div.eo2As > div.EtaWk > ul > div > li > div > div')\n",
    "        \n",
    "        if '#' in data.text:\n",
    "            tags = tags = re.findall('#[A-Za-z0-9가-힣]+', data.text)\n",
    "            print(tags)\n",
    "        else:\n",
    "            print('No hash tag')\n",
    "    except:\n",
    "        print('hash tag error')\n",
    "    \n",
    "    try: \n",
    "        WebDriverWait(driver, 100).until(EC.presence_of_element_located((By.CSS_SELECTOR, 'body > div._2dDPU.CkGkG > div.EfHg9 > div > div > a._65Bje.coreSpriteRightPaginationArrow')))\n",
    "        driver.find_element_by_css_selector('body > div._2dDPU.CkGkG > div.EfHg9 > div > div > a._65Bje.coreSpriteRightPaginationArrow').click()\n",
    "    except:\n",
    "        print('page arrow error')\n",
    "    print()\n",
    "    time.sleep(3)\n"
   ]
  }
 ],
 "metadata": {
  "kernelspec": {
   "display_name": "Python 3",
   "language": "python",
   "name": "python3"
  },
  "language_info": {
   "codemirror_mode": {
    "name": "ipython",
    "version": 3
   },
   "file_extension": ".py",
   "mimetype": "text/x-python",
   "name": "python",
   "nbconvert_exporter": "python",
   "pygments_lexer": "ipython3",
   "version": "3.7.6"
  }
 },
 "nbformat": 4,
 "nbformat_minor": 4
}
